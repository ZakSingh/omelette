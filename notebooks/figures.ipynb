{
 "cells": [
  {
   "cell_type": "code",
   "execution_count": 1,
   "metadata": {
    "collapsed": true,
    "pycharm": {
     "name": "#%%\n"
    }
   },
   "outputs": [
    {
     "name": "stderr",
     "output_type": "stream",
     "text": [
      "/home/ubuntu/anaconda3/envs/omelette/lib/python3.9/site-packages/tqdm/auto.py:22: TqdmWarning: IProgress not found. Please update jupyter and ipywidgets. See https://ipywidgets.readthedocs.io/en/stable/user_install.html\n",
      "  from .autonotebook import tqdm as notebook_tqdm\n",
      "2022-06-13 10:32:18.998397: I tensorflow/core/util/util.cc:169] oneDNN custom operations are on. You may see slightly different numerical results due to floating-point round-off errors from different computation orders. To turn them off, set the environment variable `TF_ENABLE_ONEDNN_OPTS=0`.\n"
     ]
    }
   ],
   "source": [
    "import sys\n",
    "sys.path.append('..')\n",
    "import importlib\n",
    "import torch\n",
    "import torch.nn as nn\n",
    "import torch.nn.functional as F\n",
    "import torch_geometric as pyg\n",
    "from tbparse import SummaryReader\n",
    "import pandas as pd\n",
    "import numpy as np\n",
    "import seaborn as sns\n",
    "import matplotlib.pyplot as plt\n",
    "import networkx as nx\n",
    "import os\n",
    "from itertools import groupby\n",
    "from collections import namedtuple\n",
    "import math\n",
    "import time\n",
    "from PropLang import PropLang\n",
    "import rejoice\n",
    "from rejoice import EGraph\n",
    "from rejoice.lib import Language\n",
    "from rejoice.pretrain_dataset_gen import EGraphSolver"
   ]
  },
  {
   "cell_type": "code",
   "execution_count": null,
   "metadata": {},
   "outputs": [],
   "source": [
    "# !sudo apt install --yes cm-super dvipng texlive-fonts-recommended texlive-latex-extra texlive-latex-recommended"
   ]
  },
  {
   "cell_type": "code",
   "execution_count": 2,
   "metadata": {},
   "outputs": [],
   "source": [
    "plt.rcParams['text.usetex'] = True\n",
    "plt.rcParams['font.family'] = 'serif'\n",
    "plt.rcParams['font.serif'] = 'cm'\n",
    "plt.rcParams['font.size'] = 18"
   ]
  },
  {
   "cell_type": "markdown",
   "metadata": {},
   "source": [
    "# Limitations of Equality Saturation"
   ]
  },
  {
   "cell_type": "code",
   "execution_count": 3,
   "metadata": {},
   "outputs": [],
   "source": [
    "def run_egg(lang: Language, expr, node_limit=10_000, iter_limit=7):\n",
    "    print(f\"running egg for expr\", expr)\n",
    "    first_stamp = int(round(time.time() * 1000))\n",
    "    egraph = EGraph()\n",
    "    egraph.add(expr)\n",
    "    stop_reason, num_applications, num_enodes, num_eclasses = egraph.run(lang.rewrite_rules(), iter_limit=iter_limit, node_limit=node_limit)\n",
    "    print(stop_reason, \"num_applications\", num_applications, \"num_enodes\", num_enodes, \"num_eclasses\", num_eclasses)\n",
    "    best_cost, best_expr = egraph.extract(expr)\n",
    "    second_stamp = int(round(time.time() * 1000))\n",
    "    # Calculate the time taken in milliseconds\n",
    "    time_taken = second_stamp - first_stamp\n",
    "    # egraph.graphviz(\"egg_best.png\")\n",
    "    print(f\"egg best cost:\", best_cost, \"in\",\n",
    "            f\"{time_taken}ms\", \"best expr: \", best_expr)"
   ]
  },
  {
   "cell_type": "code",
   "execution_count": 10,
   "metadata": {},
   "outputs": [
    {
     "name": "stdout",
     "output_type": "stream",
     "text": [
      "running egg for expr Or(x=And(x='x', y='y'), y=Implies(x='x', y='z'))\n",
      "NODE_LIMIT num_applications 588 num_enodes 1133 num_eclasses 255\n",
      "egg best cost: 5 in 2ms best expr:  Or(x='z', y=Implies(x='x', y='y'))\n",
      "matched egg cost. Finding minimum sequence...\n",
      "[0, 3, 4, 7, 8, 12, 2, 3, 4, 6, 7, 9, 11, 12, 2]\n",
      "found best 5.0 Or(x='z', y=Implies(x='x', y='y')) [0, 4, 7, 8, 6, 7, 9, 11, 2, 13]\n"
     ]
    }
   ],
   "source": [
    "lang = PropLang()\n",
    "ops = lang.all_operators_dict()\n",
    "AND, NOT, OR, IM = ops[\"and\"], ops[\"not\"], ops[\"or\"], ops[\"implies\"]\n",
    "x, y, z = \"x\", \"y\", \"z\"\n",
    "expr = OR(AND(x, y), IM(x, z))\n",
    "run_egg(lang, expr, 1_000, 7)\n",
    "solver = EGraphSolver(lang=lang, expr=expr, node_limit=1_000)\n",
    "steps = solver.optimize(max_steps=10000)\n",
    "df = pd.DataFrame(steps)\n",
    "df[\"label\"] = \"optimal\""
   ]
  },
  {
   "cell_type": "code",
   "execution_count": 77,
   "metadata": {},
   "outputs": [
    {
     "name": "stdout",
     "output_type": "stream",
     "text": [
      "hit node limit when searching...\n",
      "        action_name          variable   value\n",
      "0          and_true  num_applications    15.0\n",
      "1          assoc_or  num_applications   182.0\n",
      "2          comm_and  num_applications    47.0\n",
      "3           comm_or  num_applications  2399.0\n",
      "4    contrapositive  num_applications     3.0\n",
      "5         def_imply  num_applications     1.0\n",
      "6    def_imply_flip  num_applications    62.0\n",
      "7       dist_and_or  num_applications  1071.0\n",
      "8       dist_or_and  num_applications  2907.0\n",
      "9        double_neg  num_applications     0.0\n",
      "10  double_neg_flip  num_applications    48.0\n",
      "11              lem  num_applications     1.0\n",
      "12          or_true  num_applications     4.0\n",
      "13         and_true      enodes_added    20.0\n",
      "14         assoc_or      enodes_added   298.0\n",
      "15         comm_and      enodes_added    47.0\n",
      "16          comm_or      enodes_added  2787.0\n",
      "17   contrapositive      enodes_added     3.0\n",
      "18        def_imply      enodes_added     0.0\n",
      "19   def_imply_flip      enodes_added    62.0\n",
      "20      dist_and_or      enodes_added  1938.0\n",
      "21      dist_or_and      enodes_added  6447.0\n",
      "22       double_neg      enodes_added     0.0\n",
      "23  double_neg_flip      enodes_added    95.0\n",
      "24              lem      enodes_added     1.0\n",
      "25          or_true      enodes_added    43.0\n"
     ]
    },
    {
     "data": {
      "image/png": "[encoded data removed]",
      "text/plain": [
       "<Figure size 1080x360 with 1 Axes>"
      ]
     },
     "metadata": {
      "needs_background": "light"
     },
     "output_type": "display_data"
    }
   ],
   "source": [
    "solver2 = EGraphSolver(lang=lang, expr=expr, node_limit=10_000)\n",
    "steps2 = solver2.egg_like(max_steps=100_000)\n",
    "df2 = pd.DataFrame(steps2)\n",
    "df2[\"label\"] = \"egg\"\n",
    "df2[\"enodes_added\"] = df2[\"num_enodes\"].diff()\n",
    "df2 = df2.groupby(\"action_name\").agg('sum').reset_index()\n",
    "df2 = df2[[\"action_name\", \"num_applications\", \"enodes_added\"]]\n",
    "df2 = df2.melt(\"action_name\")\n",
    "print(df2)\n",
    "\n",
    "plt.figure(figsize=(15, 5))\n",
    "ax = sns.barplot(x=\"action_name\", y=\"value\", hue=\"variable\", data=df2)\n",
    "ax.set_xticklabels(ax.get_xticklabels(), rotation=50)\n",
    "sns.despine(top=True, right=True)\n",
    "ax.xaxis.labelpad = 15\n",
    "ax.yaxis.labelpad = 15\n",
    "\n",
    "ax.set_xlabel(\"Rewrite Rule\")\n",
    "ax.set_ylabel(\"Count\")\n",
    "plt.legend(bbox_to_anchor=(1.02, 1), loc='upper left', borderaxespad=0)\n",
    "leg = ax.axes.get_legend()\n",
    "\n",
    "new_labels = ['Applications', 'Nodes added']\n",
    "for t, l in zip(leg.texts, new_labels):\n",
    "    t.set_text(l)"
   ]
  },
  {
   "cell_type": "code",
   "execution_count": 36,
   "metadata": {},
   "outputs": [
    {
     "ename": "AttributeError",
     "evalue": "'DataFrameGroupBy' object has no attribute 'groupby'",
     "output_type": "error",
     "traceback": [
      "\u001b[0;31m---------------------------------------------------------------------------\u001b[0m",
      "\u001b[0;31mAttributeError\u001b[0m                            Traceback (most recent call last)",
      "\u001b[1;32m/home/ubuntu/omelette/notebooks/figures.ipynb Cell 8'\u001b[0m in \u001b[0;36m<cell line: 5>\u001b[0;34m()\u001b[0m\n\u001b[1;32m      <a href='vscode-notebook-cell://ssh-remote%2Baws/home/ubuntu/omelette/notebooks/figures.ipynb#ch0000007vscode-remote?line=0'>1</a>\u001b[0m \u001b[39m# res = pd.concat([df, df2])\u001b[39;00m\n\u001b[1;32m      <a href='vscode-notebook-cell://ssh-remote%2Baws/home/ubuntu/omelette/notebooks/figures.ipynb#ch0000007vscode-remote?line=1'>2</a>\u001b[0m \u001b[39m# print(df2)\u001b[39;00m\n\u001b[1;32m      <a href='vscode-notebook-cell://ssh-remote%2Baws/home/ubuntu/omelette/notebooks/figures.ipynb#ch0000007vscode-remote?line=2'>3</a>\u001b[0m \u001b[39m# barplot of rule -> number of nodes added by that rule over course of execution\u001b[39;00m\n\u001b[0;32m----> <a href='vscode-notebook-cell://ssh-remote%2Baws/home/ubuntu/omelette/notebooks/figures.ipynb#ch0000007vscode-remote?line=4'>5</a>\u001b[0m df2 \u001b[39m=\u001b[39m df2\u001b[39m.\u001b[39;49mgroupby(\u001b[39m\"\u001b[39m\u001b[39maction_name\u001b[39m\u001b[39m\"\u001b[39m)[\u001b[39m'\u001b[39m\u001b[39mnum_applications\u001b[39m\u001b[39m'\u001b[39m]\u001b[39m.\u001b[39mtransform(\u001b[39m'\u001b[39m\u001b[39msum\u001b[39m\u001b[39m'\u001b[39m)\n\u001b[1;32m      <a href='vscode-notebook-cell://ssh-remote%2Baws/home/ubuntu/omelette/notebooks/figures.ipynb#ch0000007vscode-remote?line=5'>6</a>\u001b[0m \u001b[39mprint\u001b[39m(df2)\n",
      "File \u001b[0;32m~/anaconda3/envs/omelette/lib/python3.9/site-packages/pandas/core/groupby/groupby.py:904\u001b[0m, in \u001b[0;36mGroupBy.__getattr__\u001b[0;34m(self, attr)\u001b[0m\n\u001b[1;32m    901\u001b[0m \u001b[39mif\u001b[39;00m attr \u001b[39min\u001b[39;00m \u001b[39mself\u001b[39m\u001b[39m.\u001b[39mobj:\n\u001b[1;32m    902\u001b[0m     \u001b[39mreturn\u001b[39;00m \u001b[39mself\u001b[39m[attr]\n\u001b[0;32m--> 904\u001b[0m \u001b[39mraise\u001b[39;00m \u001b[39mAttributeError\u001b[39;00m(\n\u001b[1;32m    905\u001b[0m     \u001b[39mf\u001b[39m\u001b[39m\"\u001b[39m\u001b[39m'\u001b[39m\u001b[39m{\u001b[39;00m\u001b[39mtype\u001b[39m(\u001b[39mself\u001b[39m)\u001b[39m.\u001b[39m\u001b[39m__name__\u001b[39m\u001b[39m}\u001b[39;00m\u001b[39m'\u001b[39m\u001b[39m object has no attribute \u001b[39m\u001b[39m'\u001b[39m\u001b[39m{\u001b[39;00mattr\u001b[39m}\u001b[39;00m\u001b[39m'\u001b[39m\u001b[39m\"\u001b[39m\n\u001b[1;32m    906\u001b[0m )\n",
      "\u001b[0;31mAttributeError\u001b[0m: 'DataFrameGroupBy' object has no attribute 'groupby'"
     ]
    }
   ],
   "source": [
    "# res = pd.concat([df, df2])\n",
    "# print(df2)\n",
    "# barplot of rule -> number of nodes added by that rule over course of execution\n",
    "\n",
    "\n",
    "\n"
   ]
  },
  {
   "cell_type": "markdown",
   "metadata": {},
   "source": [
    "# Pretraining Graphs"
   ]
  },
  {
   "cell_type": "markdown",
   "metadata": {},
   "source": [
    "### PROP"
   ]
  },
  {
   "cell_type": "markdown",
   "metadata": {},
   "source": [
    "##### Dataset analysis"
   ]
  },
  {
   "cell_type": "code",
   "execution_count": null,
   "metadata": {},
   "outputs": [],
   "source": [
    "def load_dataset(dataset_dir: str):\n",
    "  files = os.listdir(dataset_dir)\n",
    "  files.sort()\n",
    "  keyf = lambda f: f.split(\"_\")[0]\n",
    "\n",
    "  files_grouped_by_expr = [list(expr_files) for gr, expr_files in groupby(files, key=keyf)]\n",
    "\n",
    "  Row = namedtuple('Row', ['max_cost', 'min_cost', 'om_actions', 'egg_actions', 'action_mult', 'om_enodes', 'egg_enodes', 'enodes_mult', 'om_eclasses', 'egg_eclasses', 'eclasses_mult'])\n",
    "\n",
    "  rows = []\n",
    "\n",
    "  for group in files_grouped_by_expr:\n",
    "    min_actions = len(group)\n",
    "    d = torch.load(dataset_dir + \"/\" + group[-1])\n",
    "    num_eclasses = int(torch.sum(d[\"x\"][:, 0]).item())\n",
    "    num_enodes = int(len(d[\"x\"]) - num_eclasses)\n",
    "\n",
    "    node_mult = (d.egg_enodes / num_enodes)\n",
    "    class_mult = (d.egg_eclasses / num_eclasses)\n",
    "    action_mult = (d.egg_rewrites / min_actions)\n",
    "\n",
    "    rows.append(Row(max_cost=d.max_cost, min_cost=d.min_cost, om_actions=min_actions, egg_actions=d.egg_rewrites, action_mult=action_mult,\n",
    "        om_enodes=num_enodes, egg_enodes=d.egg_enodes, enodes_mult=node_mult,\n",
    "        om_eclasses=num_eclasses, egg_eclasses=d.egg_eclasses, eclasses_mult=class_mult))\n",
    "    \n",
    "  return pd.DataFrame(rows)"
   ]
  },
  {
   "cell_type": "code",
   "execution_count": null,
   "metadata": {},
   "outputs": [],
   "source": [
    "df = load_dataset(\"../PropLang\")\n",
    "df = df[[\"action_mult\", \"enodes_mult\", \"eclasses_mult\"]]\n",
    "df_melted = pd.melt(df)\n",
    "plt.figure(figsize = (15,8))\n",
    "g = sns.boxplot(x='variable', y='value', data=df_melted)\n",
    "g.set(ylabel=\"Multiplier\", xlabel=\"Attribute\", yscale=\"log\")\n",
    "plt.savefig(\"prop_data.pdf\")"
   ]
  },
  {
   "cell_type": "code",
   "execution_count": null,
   "metadata": {},
   "outputs": [],
   "source": [
    "df = load_dataset(\"../PropLang\")\n",
    "df = df[[\"min_cost\", \"max_cost\"]]\n",
    "df"
   ]
  },
  {
   "cell_type": "markdown",
   "metadata": {},
   "source": [
    "##### Training/Test Accuracy Plots"
   ]
  },
  {
   "cell_type": "code",
   "execution_count": null,
   "metadata": {},
   "outputs": [],
   "source": [
    "# Load log data\n",
    "log_dir = \"../lightning_logs/\"\n",
    "reader = SummaryReader(log_dir, extra_columns={'dir_name'})\n",
    "df = reader.scalars\n",
    "df_prop = df[df['dir_name'] == 'prop']\n",
    "df_math = df[df['dir_name'] == 'math']\n"
   ]
  },
  {
   "cell_type": "code",
   "execution_count": null,
   "metadata": {},
   "outputs": [],
   "source": [
    "def plot_acc(df, title):\n",
    "  g = sns.lineplot(data=df, x='step', y='value')\n",
    "  g.set(title=title, ylabel=\"Accuracy\", xlabel=\"Step\")\n",
    "  return g"
   ]
  },
  {
   "cell_type": "code",
   "execution_count": null,
   "metadata": {},
   "outputs": [],
   "source": [
    "def plot_acc_grid(df1, df2):\n",
    "  df1 = df1.loc[df1['tag'].isin(['acc/train_acc', 'acc/val_acc'])]\n",
    "  df2 = df2.loc[df2['tag'].isin(['acc/train_acc', 'acc/val_acc'])]\n",
    "  df_all = pd.concat([df1, df2])\n",
    "\n",
    "  g = sns.relplot(x=\"step\", y=\"value\", col=\"tag\", row=\"dir_name\", kind=\"line\", data=df_all);\n",
    "  g.set(ylabel=\"Accuracy\", xlabel=\"Step\")\n",
    "  return g\n",
    "\n",
    "g = plot_acc_grid(df_prop, df_math)\n",
    "plt.savefig(\"sup_acc.pdf\")"
   ]
  },
  {
   "cell_type": "code",
   "execution_count": null,
   "metadata": {},
   "outputs": [],
   "source": [
    "train_acc_df = df[df['tag'] =='acc/train_acc']\n",
    "plot_acc(train_acc_df, \"Training Accuracy\")"
   ]
  },
  {
   "cell_type": "code",
   "execution_count": null,
   "metadata": {
    "collapsed": false,
    "pycharm": {
     "name": "#%%\n"
    }
   },
   "outputs": [],
   "source": [
    "al_acc_df = df[df['tag'] =='acc/val_acc']\n"
   ]
  },
  {
   "cell_type": "markdown",
   "metadata": {},
   "source": [
    "# Single-Task Performance"
   ]
  },
  {
   "cell_type": "code",
   "execution_count": null,
   "metadata": {},
   "outputs": [],
   "source": []
  },
  {
   "cell_type": "markdown",
   "metadata": {},
   "source": [
    "# Generalizability"
   ]
  }
 ],
 "metadata": {
  "interpreter": {
   "hash": "65db7c2788f2308e6ab6fc871edbf33559d8a815d6288b079f4664dc3b952bfc"
  },
  "kernelspec": {
   "display_name": "Python 3.9.13 ('omelette')",
   "language": "python",
   "name": "python3"
  },
  "language_info": {
   "codemirror_mode": {
    "name": "ipython",
    "version": 3
   },
   "file_extension": ".py",
   "mimetype": "text/x-python",
   "name": "python",
   "nbconvert_exporter": "python",
   "pygments_lexer": "ipython3",
   "version": "3.9.13"
  }
 },
 "nbformat": 4,
 "nbformat_minor": 0
}
