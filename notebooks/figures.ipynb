{
 "cells": [
  {
   "cell_type": "code",
   "execution_count": 6,
   "metadata": {
    "collapsed": true,
    "pycharm": {
     "name": "#%%\n"
    }
   },
   "outputs": [],
   "source": [
    "import torch\n",
    "import torch.nn as nn\n",
    "import torch.nn.functional as F\n",
    "import torch_geometric as pyg\n",
    "import torch.nn.init as init\n",
    "import onnx\n",
    "import torch.utils.model_zoo as model_zoo\n",
    "import torch.onnx as tonnx"
   ]
  },
  {
   "cell_type": "code",
   "execution_count": 24,
   "outputs": [
    {
     "name": "stdout",
     "output_type": "stream",
     "text": [
      "print-1:\n",
      "torch.Size([4, 3, 32, 32])\n",
      "print-2:\n",
      "torch.Size([4, 16, 32, 32])\n",
      "print-3:\n",
      "torch.Size([4, 32, 16, 16])\n",
      "print-4:\n",
      "torch.Size([4, 32, 8, 8])\n",
      "print-5:\n",
      "torch.Size([4, 2048])\n",
      "print-1:\n",
      "torch.Size([4, 3, 32, 32])\n",
      "print-2:\n",
      "torch.Size([4, 16, 32, 32])\n",
      "print-3:\n",
      "torch.Size([4, 32, 16, 16])\n",
      "print-4:\n",
      "torch.Size([4, 32, 8, 8])\n",
      "print-5:\n",
      "torch.Size([4, 2048])\n"
     ]
    }
   ],
   "source": [
    "class CNN(torch.nn.Module):\n",
    "    def __init__(self):\n",
    "        super(CNN, self).__init__()\n",
    "\n",
    "        #image-tensor goes in as batch_sizex3x32x32\n",
    "        #print-1 will show this state\n",
    "\n",
    "        self.conv1 = nn.Conv2d(3, 16, kernel_size=3, stride=1, padding=1, bias=False)\n",
    "        self.bn1 = nn.BatchNorm2d(16)\n",
    "\n",
    "        #image-tensor is batch_sizex16x32x32 since: (32-3+2*1)/1+1=32\n",
    "        #print-2 will show this state\n",
    "\n",
    "        self.conv2 = nn.Conv2d(16, 32, kernel_size=3, stride=2, padding=1, bias=False)\n",
    "        self.bn2 = nn.BatchNorm2d(32)\n",
    "\n",
    "        #image-tensor is batch_sizex32x16x16 since: (32-3+2*1)/2+1=16\n",
    "        #print-3 will show this state\n",
    "\n",
    "        self.max_pool = nn.MaxPool2d(kernel_size=2, stride=2)\n",
    "\n",
    "        #image-tensor is batch_sizex32x8x8\n",
    "        #print-4 will show this state\n",
    "\n",
    "        #now we flatten image tensor to batch_sizex32*8*8 which is batch_sizex2048\n",
    "        #print-5 will show this state\n",
    "        self.fc1 = nn.Linear(32 * 8 * 8, 10) #same as: self.fc1 = nn.Linear(2048, 10)\n",
    "\n",
    "\n",
    "    def forward(self, x):\n",
    "        print(\"print-1:\")\n",
    "        print(x.shape)\n",
    "        x = F.relu(self.bn1(self.conv1(x)))\n",
    "        print(\"print-2:\")\n",
    "        print(x.shape)\n",
    "        x = F.relu(self.bn2(self.conv2(x)))\n",
    "        print(\"print-3:\")\n",
    "        print(x.shape)\n",
    "        x = self.max_pool(x)\n",
    "        print(\"print-4:\")\n",
    "        print(x.shape)\n",
    "        x = x.view(-1, 32 * 8 * 8)\n",
    "        print(\"print-5:\")\n",
    "        print(x.shape)\n",
    "        x = self.fc1(x)\n",
    "        return x\n",
    "\n",
    "model = CNN()\n",
    "model.eval()\n",
    "x = torch.ones(4, 3, 32, 32, requires_grad=True)\n",
    "model(x)\n",
    "\n",
    "torch.onnx.export(model,               # model being run\n",
    "                  x,                         # model input (or a tuple for multiple inputs)\n",
    "                  \"super_resolution.onnx\",   # where to save the model (can be a file or file-like object)\n",
    "                  export_params=True,        # store the trained parameter weights inside the model file\n",
    "                  opset_version=10,          # the ONNX version to export the model to\n",
    "                  do_constant_folding=True,  # whether to execute constant folding for optimization\n",
    "                  input_names = ['input'],   # the model's input names\n",
    "                  output_names = ['output'], # the model's output names\n",
    "                  dynamic_axes={'input' : {0 : 'batch_size'},    # variable length axes\n",
    "                                'output' : {0 : 'batch_size'}})"
   ],
   "metadata": {
    "collapsed": false,
    "pycharm": {
     "name": "#%%\n"
    }
   }
  }
 ],
 "metadata": {
  "kernelspec": {
   "display_name": "Python 3",
   "language": "python",
   "name": "python3"
  },
  "language_info": {
   "codemirror_mode": {
    "name": "ipython",
    "version": 2
   },
   "file_extension": ".py",
   "mimetype": "text/x-python",
   "name": "python",
   "nbconvert_exporter": "python",
   "pygments_lexer": "ipython2",
   "version": "2.7.6"
  }
 },
 "nbformat": 4,
 "nbformat_minor": 0
}